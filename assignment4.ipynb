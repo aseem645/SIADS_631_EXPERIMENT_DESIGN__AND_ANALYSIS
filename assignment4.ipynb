{
 "cells": [
  {
   "cell_type": "code",
   "execution_count": 1,
   "metadata": {
    "deletable": false,
    "editable": false,
    "nbgrader": {
     "checksum": "25640fd4ae5d5156137643ea09550d0f",
     "grade": false,
     "grade_id": "version",
     "locked": true,
     "schema_version": 1,
     "solution": false
    },
    "pycharm": {
     "is_executing": false
    }
   },
   "outputs": [],
   "source": [
    "version = \"REPLACE_PACKAGE_VERSION\""
   ]
  },
  {
   "cell_type": "markdown",
   "metadata": {
    "deletable": false,
    "editable": false,
    "nbgrader": {
     "checksum": "3d4779d378919ebae66638a37200d761",
     "grade": false,
     "grade_id": "cell-4a36306178077d0b",
     "locked": true,
     "schema_version": 1,
     "solution": false
    }
   },
   "source": [
    "# Experiment Design and Analysis\n",
    "## School of Information, University of Michigan\n",
    "\n",
    "## Week 4: \n",
    "- 1. Threats to Validity\n",
    "- 2. Instrumental Variables\n",
    "\n",
    "## Assignment Overview\n",
    "### The objective of this assignment is to:\n",
    "\n",
    "- Apply theory of experiment design and knowledge of analysis techniques to real experiment data.\n",
    "\n",
    "\n",
    "### The total score of this assignment will be 25 points\n",
    "\n",
    "\n",
    "### Resources:\n",
    "- StatsModels\n",
    "    - We recommend using a python library called [StatsModels](https://www.statsmodels.org/stable/index.html) for data analysis\n",
    "\n",
    "\n",
    "- Dataset used in this assignment: Kiva Crowdsourcing Team data [view source files](https://www.openicpsr.org/openicpsr/project/100358/version/V2/view)\n",
    "    - Source for dataset: [Chen, Y., et al. Recommending teams promotes prosocial lending in online microfinance (2016).](https://www.pnas.org/content/113/52/14944)"
   ]
  },
  {
   "cell_type": "code",
   "execution_count": 16,
   "metadata": {
    "deletable": false,
    "editable": false,
    "nbgrader": {
     "checksum": "7df18e3f16c9d1c3d7743481f11d13e9",
     "grade": false,
     "grade_id": "cell-5474fc6b6384368c",
     "locked": true,
     "schema_version": 1,
     "solution": false
    },
    "pycharm": {
     "is_executing": false
    }
   },
   "outputs": [],
   "source": [
    "import pandas as pd\n",
    "import numpy as np\n",
    "import statsmodels.api as sm\n",
    "from linearmodels.iv import IV2SLS #you may get a deprecation warning for this library -- this is fine.\n",
    "\n",
    "data = pd.read_csv('assets/assignment4_data.csv') #Data for this assignment"
   ]
  },
  {
   "cell_type": "code",
   "execution_count": 17,
   "metadata": {
    "pycharm": {
     "is_executing": false
    }
   },
   "outputs": [
    {
     "name": "stdout",
     "output_type": "stream",
     "text": [
      "### Assignment Topic: Data analysis of a field experiment on Kiva\r\n",
      "\r\n",
      "### Background:\r\n",
      "\r\n",
      "We upload data files from a field experiment conducted by the University of Michigan on the Kiva platform. They are in csv format to import into the Jupyter Notebook.\r\n",
      "\r\n",
      "### Data:\r\n",
      "\r\n",
      "The data file contains eight variables for 64,800 subjects. Below are descriptions of each field in the file:\r\n",
      "\r\n",
      "    - shuffled_lender_id: a de-identified identifier to represent unique subjects.\r\n",
      "    \r\n",
      "    - treatment_id: the type of treatment the subjects received as part of the experiment.\r\n",
      "    \r\n",
      "        1. No-Contact\r\n",
      "        \r\n",
      "        2. Team-Exist\r\n",
      "        \r\n",
      "        3. Location-Explanation\r\n",
      "        \r\n",
      "        4. Location-NoExplanation\r\n",
      "        \r\n",
      "        5. History-Explanation\r\n",
      "        \r\n",
      "        6. History-NoExplanation\r\n",
      "        \r\n",
      "        7. Leaderboard-Explanation\r\n",
      "        \r\n",
      "        8. Leaderboard-NoExplanation\r\n",
      "        \r\n",
      "    - join: Whether a lender joined a team after the experiment.\r\n",
      "    \r\n",
      "    - join_rec: Whether a lender joined a recommended team after the experiment.\r\n",
      "    \r\n",
      "    - opened: Whether a lender opened our email.\r\n",
      "    \r\n",
      "    - amt_diff_1d: The per-day differences in the amount of the loan (in US dollars) the lenders lent in 1 day before and after the experiment, positive number indicates the lender lent more money in 1 day after the experiment. A difference of -10 in the data would mean the subject lent $10 less per-day over 1 day after the experiment started than before ($10 less total).\r\n",
      "    \r\n",
      "    - amt_diff_7d: Similar as amt_diff_1d, but the per-day differences are calculated in 7 day window. A difference of -10 in the data would mean the subject lent $10 less per-day over 7 days after the experiment started than before ($70 less total).\r\n",
      "    \r\n",
      "    - amt_diff_30d: Similar as amt_diff_1d, but the per-day differences are calculated in 30 day window. A difference of -5 in the data would mean the subject lent $5 less per-day over 7 days after the experiment started than before ($150 less total).\r\n"
     ]
    }
   ],
   "source": [
    "#uncomment the below line to view readme files for this dataset (includes explanation of variable names)\n",
    "!cat assets/assignment4_data_readme.md\n",
    "\n",
    "#uncomment the below line to view snippet of csv file\n",
    "#data.head()"
   ]
  },
  {
   "cell_type": "code",
   "execution_count": 18,
   "metadata": {},
   "outputs": [
    {
     "data": {
      "text/html": [
       "<div>\n",
       "<style scoped>\n",
       "    .dataframe tbody tr th:only-of-type {\n",
       "        vertical-align: middle;\n",
       "    }\n",
       "\n",
       "    .dataframe tbody tr th {\n",
       "        vertical-align: top;\n",
       "    }\n",
       "\n",
       "    .dataframe thead th {\n",
       "        text-align: right;\n",
       "    }\n",
       "</style>\n",
       "<table border=\"1\" class=\"dataframe\">\n",
       "  <thead>\n",
       "    <tr style=\"text-align: right;\">\n",
       "      <th></th>\n",
       "      <th>shuffled_lender_id</th>\n",
       "      <th>treatment_id</th>\n",
       "      <th>join</th>\n",
       "      <th>join_rec</th>\n",
       "      <th>opened</th>\n",
       "      <th>amt_diff_1d</th>\n",
       "      <th>amt_diff_7d</th>\n",
       "      <th>amt_diff_30d</th>\n",
       "    </tr>\n",
       "  </thead>\n",
       "  <tbody>\n",
       "    <tr>\n",
       "      <th>0</th>\n",
       "      <td>0</td>\n",
       "      <td>7</td>\n",
       "      <td>0</td>\n",
       "      <td>0</td>\n",
       "      <td>1</td>\n",
       "      <td>0.0</td>\n",
       "      <td>0.0</td>\n",
       "      <td>-50.0</td>\n",
       "    </tr>\n",
       "    <tr>\n",
       "      <th>1</th>\n",
       "      <td>1</td>\n",
       "      <td>3</td>\n",
       "      <td>0</td>\n",
       "      <td>0</td>\n",
       "      <td>1</td>\n",
       "      <td>0.0</td>\n",
       "      <td>0.0</td>\n",
       "      <td>0.0</td>\n",
       "    </tr>\n",
       "    <tr>\n",
       "      <th>2</th>\n",
       "      <td>2</td>\n",
       "      <td>4</td>\n",
       "      <td>0</td>\n",
       "      <td>0</td>\n",
       "      <td>1</td>\n",
       "      <td>0.0</td>\n",
       "      <td>0.0</td>\n",
       "      <td>0.0</td>\n",
       "    </tr>\n",
       "    <tr>\n",
       "      <th>3</th>\n",
       "      <td>3</td>\n",
       "      <td>2</td>\n",
       "      <td>0</td>\n",
       "      <td>0</td>\n",
       "      <td>0</td>\n",
       "      <td>0.0</td>\n",
       "      <td>0.0</td>\n",
       "      <td>0.0</td>\n",
       "    </tr>\n",
       "    <tr>\n",
       "      <th>4</th>\n",
       "      <td>4</td>\n",
       "      <td>5</td>\n",
       "      <td>0</td>\n",
       "      <td>0</td>\n",
       "      <td>0</td>\n",
       "      <td>0.0</td>\n",
       "      <td>0.0</td>\n",
       "      <td>0.0</td>\n",
       "    </tr>\n",
       "  </tbody>\n",
       "</table>\n",
       "</div>"
      ],
      "text/plain": [
       "   shuffled_lender_id  treatment_id  join  join_rec  opened  amt_diff_1d  \\\n",
       "0                   0             7     0         0       1          0.0   \n",
       "1                   1             3     0         0       1          0.0   \n",
       "2                   2             4     0         0       1          0.0   \n",
       "3                   3             2     0         0       0          0.0   \n",
       "4                   4             5     0         0       0          0.0   \n",
       "\n",
       "   amt_diff_7d  amt_diff_30d  \n",
       "0          0.0         -50.0  \n",
       "1          0.0           0.0  \n",
       "2          0.0           0.0  \n",
       "3          0.0           0.0  \n",
       "4          0.0           0.0  "
      ]
     },
     "execution_count": 18,
     "metadata": {},
     "output_type": "execute_result"
    }
   ],
   "source": [
    "data.head()"
   ]
  },
  {
   "cell_type": "markdown",
   "metadata": {
    "deletable": false,
    "editable": false,
    "nbgrader": {
     "checksum": "f4a8ef43099577f48253862aab5d5704",
     "grade": false,
     "grade_id": "cell-8315b9cbca9a7c63",
     "locked": true,
     "schema_version": 1,
     "solution": false
    }
   },
   "source": [
    "## Part A (15 points)"
   ]
  },
  {
   "cell_type": "markdown",
   "metadata": {
    "deletable": false,
    "editable": false,
    "nbgrader": {
     "checksum": "04ff69e3440294dc35f9fd92d4a19982",
     "grade": false,
     "grade_id": "cell-a7e50f34038cea7c",
     "locked": true,
     "schema_version": 1,
     "solution": false
    }
   },
   "source": [
    "We want to assess the effectiveness of joining a team on Kiva -- specifically, what impact joining a team has on donations. Using the variable indicating whether users have joined a team (```join```) and the differences in donations made over a certain period (```amt_diff_1d```, ```amt_diff_7d```, ```amt_diff_30d```), we can find if joining a team has impact on donations. However, variables that determine whether subjects join a team may also affect the amount they donate since we only inform subjects about joining a team.\n",
    "\n",
    "In this case, our instrumental variable is whether the subjects were sent an e-mail to inform about the team functionality on Kiva. \n",
    "\n",
    "***Before you go on, recall from lecture the requirements an instrumental variable must satisfy - you will be investigating these requirements in this notebook.***"
   ]
  },
  {
   "cell_type": "markdown",
   "metadata": {
    "deletable": false,
    "editable": false,
    "nbgrader": {
     "checksum": "fff630621e9864bc912f9d1514baf2aa",
     "grade": false,
     "grade_id": "cell-7e5f909e939bd1e0",
     "locked": true,
     "schema_version": 1,
     "solution": false
    }
   },
   "source": [
    "1. To get started, we need to create the instrumental variable. Add a new column named ```email``` in the dataframe. The value for ```email``` should be ```1``` if users received an e-mail as part of their treatment group (```treatment_id``` != 1), and ```0``` if they did not (```treatment_id``` = 1). (2 points)"
   ]
  },
  {
   "cell_type": "code",
   "execution_count": 19,
   "metadata": {
    "deletable": false,
    "nbgrader": {
     "checksum": "a8a6e37d850af74786539f1ba42bc6d6",
     "grade": false,
     "grade_id": "add_email_df",
     "locked": false,
     "schema_version": 1,
     "solution": true
    },
    "pycharm": {
     "is_executing": false
    }
   },
   "outputs": [],
   "source": [
    "data.rename(columns={'join': 'join_any'}, inplace=True) #since join is also the name of a pandas method, we rename the column to avoid confusion\n",
    "# YOUR CODE HERE\n",
    "\n",
    "data['email'] = np.where(data['treatment_id']!=1, 1, 0)"
   ]
  },
  {
   "cell_type": "code",
   "execution_count": 20,
   "metadata": {
    "deletable": false,
    "editable": false,
    "nbgrader": {
     "checksum": "39b9c13332aed6359888dc1f2db0ab81",
     "grade": true,
     "grade_id": "no_email_nans",
     "locked": true,
     "points": 1,
     "schema_version": 1,
     "solution": false
    },
    "pycharm": {
     "is_executing": false
    }
   },
   "outputs": [],
   "source": [
    "assert pd.notnull(data['email'].all()), \"email column must contain either 0 or 1\""
   ]
  },
  {
   "cell_type": "code",
   "execution_count": 21,
   "metadata": {
    "deletable": false,
    "editable": false,
    "nbgrader": {
     "checksum": "75173006c9dddae3f2aca97b34e78b6f",
     "grade": true,
     "grade_id": "all_treat_groups",
     "locked": true,
     "points": 1,
     "schema_version": 1,
     "solution": false
    },
    "pycharm": {
     "is_executing": false
    }
   },
   "outputs": [],
   "source": [
    "assert data.loc[data['treatment_id'] != 1,'email'].all() == 1, \"all treatments except treatment 1 received an email\"\n",
    "assert data.loc[data['treatment_id'] == 1,'email'].all() == 0, \"all treatments except treatment 1 received an email\""
   ]
  },
  {
   "cell_type": "markdown",
   "metadata": {
    "deletable": false,
    "editable": false,
    "nbgrader": {
     "checksum": "5f0729e52d0e4012b29dfa0903291f4b",
     "grade": false,
     "grade_id": "cell-7e138b9fc18b7d11",
     "locked": true,
     "schema_version": 1,
     "solution": false
    }
   },
   "source": [
    "2. Next, we will create a constant, equal to 1. Add a column in the dataframe called ```const```. (1 point)"
   ]
  },
  {
   "cell_type": "code",
   "execution_count": 22,
   "metadata": {
    "deletable": false,
    "nbgrader": {
     "checksum": "e9c6d67988272e4fdd628f71aac2e1e0",
     "grade": false,
     "grade_id": "add_const_df",
     "locked": false,
     "schema_version": 1,
     "solution": true
    },
    "pycharm": {
     "is_executing": false
    }
   },
   "outputs": [],
   "source": [
    "# YOUR CODE HERE\n",
    "\n",
    "\n",
    "data['const'] = 1"
   ]
  },
  {
   "cell_type": "code",
   "execution_count": 23,
   "metadata": {
    "deletable": false,
    "editable": false,
    "nbgrader": {
     "checksum": "9dd0295fc7ad04f11a8a19f087d9818d",
     "grade": true,
     "grade_id": "const_df_added",
     "locked": true,
     "points": 1,
     "schema_version": 1,
     "solution": false
    },
    "pycharm": {
     "is_executing": false
    }
   },
   "outputs": [],
   "source": [
    "assert data['const'].all() == 1, \"the constant value should be 1\""
   ]
  },
  {
   "cell_type": "markdown",
   "metadata": {
    "deletable": false,
    "editable": false,
    "nbgrader": {
     "checksum": "eecb14eb2cec2fc5d42591b5e128c40e",
     "grade": false,
     "grade_id": "cell-8ba4e67e67daa619",
     "locked": true,
     "schema_version": 1,
     "solution": false
    }
   },
   "source": [
    "In lecture, the 2-stage least squares model was used. Now, let’s follow the steps indicated in lecture to create this model to measure the effect described above. First, we need to estimate the effect of e-mailing users to join a team on whether they join a team.\n"
   ]
  },
  {
   "cell_type": "markdown",
   "metadata": {
    "deletable": false,
    "editable": false,
    "nbgrader": {
     "checksum": "d089a46a65e4a41eba3d043b8c68154d",
     "grade": false,
     "grade_id": "cell-b0a9a6bb0ba8ace1",
     "locked": true,
     "schema_version": 1,
     "solution": false
    }
   },
   "source": [
    "3. Using statsmodels, create an ordinary least squares regression model that does this. Fit the model and store it in the variable: ```model_fs```. Using the predict method from ```model_fs```, store the predicted values in a new column in your dataframe called ```predicted_join```. Recall from lecture that since we have created this new variable, we can estimate the effect of joining a team on lending amounts without worrying about the effect of potential unobserved or missing variables. (4 points)\n",
    "\n",
    "Note: ensure your model has a constant."
   ]
  },
  {
   "cell_type": "code",
   "execution_count": 30,
   "metadata": {
    "deletable": false,
    "nbgrader": {
     "checksum": "c06b6e5cb8551eb76319e4a4e4c54eb9",
     "grade": false,
     "grade_id": "ols_model_predicted_join",
     "locked": false,
     "schema_version": 1,
     "solution": true
    },
    "pycharm": {
     "is_executing": false
    }
   },
   "outputs": [],
   "source": [
    "def email_join_ols(provided_data):\n",
    "    \n",
    "    Y = provided_data['join_any']\n",
    "    X = provided_data['email']\n",
    "    X = sm.add_constant(X)\n",
    "    model = sm.OLS(Y,X)\n",
    "    model_fs = model.fit()\n",
    "    \n",
    "    predicted = model_fs.predict()\n",
    "    \n",
    "    provided_data['predicted_join'] = predicted\n",
    "    \n",
    "    return provided_data"
   ]
  },
  {
   "cell_type": "markdown",
   "metadata": {
    "deletable": false,
    "editable": false,
    "nbgrader": {
     "checksum": "f39c415bc1559f420f88a00bd10b3ac9",
     "grade": false,
     "grade_id": "cell-ce522d13ca9757bd",
     "locked": true,
     "schema_version": 1,
     "solution": false
    }
   },
   "source": [
    "Your function should return a dataframe with the correct values and columns. Check that it does:"
   ]
  },
  {
   "cell_type": "code",
   "execution_count": 31,
   "metadata": {
    "pycharm": {
     "is_executing": false
    }
   },
   "outputs": [
    {
     "data": {
      "text/html": [
       "<div>\n",
       "<style scoped>\n",
       "    .dataframe tbody tr th:only-of-type {\n",
       "        vertical-align: middle;\n",
       "    }\n",
       "\n",
       "    .dataframe tbody tr th {\n",
       "        vertical-align: top;\n",
       "    }\n",
       "\n",
       "    .dataframe thead th {\n",
       "        text-align: right;\n",
       "    }\n",
       "</style>\n",
       "<table border=\"1\" class=\"dataframe\">\n",
       "  <thead>\n",
       "    <tr style=\"text-align: right;\">\n",
       "      <th></th>\n",
       "      <th>shuffled_lender_id</th>\n",
       "      <th>treatment_id</th>\n",
       "      <th>join_any</th>\n",
       "      <th>join_rec</th>\n",
       "      <th>opened</th>\n",
       "      <th>amt_diff_1d</th>\n",
       "      <th>amt_diff_7d</th>\n",
       "      <th>amt_diff_30d</th>\n",
       "      <th>email</th>\n",
       "      <th>const</th>\n",
       "      <th>predicted_join</th>\n",
       "    </tr>\n",
       "  </thead>\n",
       "  <tbody>\n",
       "    <tr>\n",
       "      <th>0</th>\n",
       "      <td>0</td>\n",
       "      <td>7</td>\n",
       "      <td>0</td>\n",
       "      <td>0</td>\n",
       "      <td>1</td>\n",
       "      <td>0.0</td>\n",
       "      <td>0.0</td>\n",
       "      <td>-50.0</td>\n",
       "      <td>1</td>\n",
       "      <td>1</td>\n",
       "      <td>0.009801</td>\n",
       "    </tr>\n",
       "    <tr>\n",
       "      <th>1</th>\n",
       "      <td>1</td>\n",
       "      <td>3</td>\n",
       "      <td>0</td>\n",
       "      <td>0</td>\n",
       "      <td>1</td>\n",
       "      <td>0.0</td>\n",
       "      <td>0.0</td>\n",
       "      <td>0.0</td>\n",
       "      <td>1</td>\n",
       "      <td>1</td>\n",
       "      <td>0.009801</td>\n",
       "    </tr>\n",
       "    <tr>\n",
       "      <th>2</th>\n",
       "      <td>2</td>\n",
       "      <td>4</td>\n",
       "      <td>0</td>\n",
       "      <td>0</td>\n",
       "      <td>1</td>\n",
       "      <td>0.0</td>\n",
       "      <td>0.0</td>\n",
       "      <td>0.0</td>\n",
       "      <td>1</td>\n",
       "      <td>1</td>\n",
       "      <td>0.009801</td>\n",
       "    </tr>\n",
       "    <tr>\n",
       "      <th>3</th>\n",
       "      <td>3</td>\n",
       "      <td>2</td>\n",
       "      <td>0</td>\n",
       "      <td>0</td>\n",
       "      <td>0</td>\n",
       "      <td>0.0</td>\n",
       "      <td>0.0</td>\n",
       "      <td>0.0</td>\n",
       "      <td>1</td>\n",
       "      <td>1</td>\n",
       "      <td>0.009801</td>\n",
       "    </tr>\n",
       "    <tr>\n",
       "      <th>4</th>\n",
       "      <td>4</td>\n",
       "      <td>5</td>\n",
       "      <td>0</td>\n",
       "      <td>0</td>\n",
       "      <td>0</td>\n",
       "      <td>0.0</td>\n",
       "      <td>0.0</td>\n",
       "      <td>0.0</td>\n",
       "      <td>1</td>\n",
       "      <td>1</td>\n",
       "      <td>0.009801</td>\n",
       "    </tr>\n",
       "  </tbody>\n",
       "</table>\n",
       "</div>"
      ],
      "text/plain": [
       "   shuffled_lender_id  treatment_id  join_any  join_rec  opened  amt_diff_1d  \\\n",
       "0                   0             7         0         0       1          0.0   \n",
       "1                   1             3         0         0       1          0.0   \n",
       "2                   2             4         0         0       1          0.0   \n",
       "3                   3             2         0         0       0          0.0   \n",
       "4                   4             5         0         0       0          0.0   \n",
       "\n",
       "   amt_diff_7d  amt_diff_30d  email  const  predicted_join  \n",
       "0          0.0         -50.0      1      1        0.009801  \n",
       "1          0.0           0.0      1      1        0.009801  \n",
       "2          0.0           0.0      1      1        0.009801  \n",
       "3          0.0           0.0      1      1        0.009801  \n",
       "4          0.0           0.0      1      1        0.009801  "
      ]
     },
     "execution_count": 31,
     "metadata": {},
     "output_type": "execute_result"
    }
   ],
   "source": [
    "email_join_ols(data).head() #you may get a deprecation warning here -- that is ok."
   ]
  },
  {
   "cell_type": "code",
   "execution_count": 32,
   "metadata": {
    "deletable": false,
    "editable": false,
    "nbgrader": {
     "checksum": "a4ba16ad105b9ac6a12ae7f1ede54c44",
     "grade": true,
     "grade_id": "predicted_join_col",
     "locked": true,
     "points": 1,
     "schema_version": 1,
     "solution": false
    },
    "pycharm": {
     "is_executing": false
    }
   },
   "outputs": [],
   "source": [
    "assert 'predicted_join' in data, \"checking there is a column named predicted_join in data\""
   ]
  },
  {
   "cell_type": "code",
   "execution_count": 33,
   "metadata": {
    "deletable": false,
    "editable": false,
    "nbgrader": {
     "checksum": "7449b4d0a72c961ade201bc5d497c744",
     "grade": true,
     "grade_id": "correct_pred_join_treat",
     "locked": true,
     "points": 3,
     "schema_version": 1,
     "solution": false
    },
    "pycharm": {
     "is_executing": false
    }
   },
   "outputs": [
    {
     "data": {
      "text/plain": [
       "'checking the correct predicted_join values are present'"
      ]
     },
     "execution_count": 33,
     "metadata": {},
     "output_type": "execute_result"
    }
   ],
   "source": [
    "\"\"\"checking the correct predicted_join values are present\"\"\"\n",
    "# Hidden tests"
   ]
  },
  {
   "cell_type": "markdown",
   "metadata": {
    "deletable": false,
    "editable": false,
    "nbgrader": {
     "checksum": "06c33f23052f5d7ea672e6e0f5397cbc",
     "grade": false,
     "grade_id": "cell-b4b7d4caec94dffb",
     "locked": true,
     "schema_version": 1,
     "solution": false
    }
   },
   "source": [
    "Now that we have the predicted values of whether a subject would be expected to join a team based on if they were e-mailed, we can move to the second stage."
   ]
  },
  {
   "cell_type": "markdown",
   "metadata": {
    "deletable": false,
    "editable": false,
    "nbgrader": {
     "checksum": "adc029f1564300306a5282153198b519",
     "grade": false,
     "grade_id": "cell-c5c503892fb6e61c",
     "locked": true,
     "schema_version": 1,
     "solution": false
    }
   },
   "source": [
    "4. In this stage, we will run the estimation of the effect of joining a team on the amount a subject lends. However, instead of using the ```join``` variable, we will use our new ```predicted_join``` variable. Using statsmodels again, and ensuring your model has a constant, create three ordinary least squares regression models which estimate the effect of the prediction of users joining a team on the following:"
   ]
  },
  {
   "cell_type": "markdown",
   "metadata": {
    "deletable": false,
    "editable": false,
    "nbgrader": {
     "checksum": "68210a505d8a5af49e44a9d02a46a8bd",
     "grade": false,
     "grade_id": "cell-b56cef4fb3105c6a",
     "locked": true,
     "schema_version": 1,
     "solution": false
    }
   },
   "source": [
    "a. ```amt_diff_1d```, storing the fitted model in ```model_1d``` (3 points)"
   ]
  },
  {
   "cell_type": "code",
   "execution_count": 34,
   "metadata": {
    "deletable": false,
    "nbgrader": {
     "checksum": "a3e8f476e1040cb72e764d913a41483d",
     "grade": false,
     "grade_id": "amt_1d_ols",
     "locked": false,
     "schema_version": 1,
     "solution": true
    },
    "pycharm": {
     "is_executing": false
    }
   },
   "outputs": [],
   "source": [
    "def pred_join_amt_1d(provided_data):\n",
    "\n",
    "    \n",
    "    data = email_join_ols(provided_data)\n",
    "    \n",
    "    Y = data['amt_diff_1d']\n",
    "    X = data['predicted_join']\n",
    "    X = sm.add_constant(X)\n",
    "    model = sm.OLS(Y,X)\n",
    "    model_1d = model.fit()\n",
    "    \n",
    "    \n",
    "    return model_1d"
   ]
  },
  {
   "cell_type": "markdown",
   "metadata": {
    "deletable": false,
    "editable": false,
    "nbgrader": {
     "checksum": "39fe2a90e097a650cb0b2cff64a62fb5",
     "grade": false,
     "grade_id": "cell-db3107a9dc03b9e5",
     "locked": true,
     "schema_version": 1,
     "solution": false
    }
   },
   "source": [
    "Your function should return a summary view of your results. Check that it does:"
   ]
  },
  {
   "cell_type": "code",
   "execution_count": 35,
   "metadata": {
    "pycharm": {
     "is_executing": false
    }
   },
   "outputs": [
    {
     "name": "stdout",
     "output_type": "stream",
     "text": [
      "                            OLS Regression Results                            \n",
      "==============================================================================\n",
      "Dep. Variable:            amt_diff_1d   R-squared:                       0.001\n",
      "Model:                            OLS   Adj. R-squared:                  0.001\n",
      "Method:                 Least Squares   F-statistic:                     56.75\n",
      "Date:                Sun, 21 Nov 2021   Prob (F-statistic):           5.01e-14\n",
      "Time:                        20:54:27   Log-Likelihood:            -2.8014e+05\n",
      "No. Observations:               64800   AIC:                         5.603e+05\n",
      "Df Residuals:                   64798   BIC:                         5.603e+05\n",
      "Df Model:                           1                                         \n",
      "Covariance Type:            nonrobust                                         \n",
      "==================================================================================\n",
      "                     coef    std err          t      P>|t|      [0.025      0.975]\n",
      "----------------------------------------------------------------------------------\n",
      "const             -2.6593      0.367     -7.240      0.000      -3.379      -1.939\n",
      "predicted_join   298.5579     39.632      7.533      0.000     220.880     376.236\n",
      "==============================================================================\n",
      "Omnibus:                   150585.273   Durbin-Watson:                   2.001\n",
      "Prob(Omnibus):                  0.000   Jarque-Bera (JB):      37814819449.462\n",
      "Skew:                          21.515   Prob(JB):                         0.00\n",
      "Kurtosis:                    3745.143   Cond. No.                         553.\n",
      "==============================================================================\n",
      "\n",
      "Notes:\n",
      "[1] Standard Errors assume that the covariance matrix of the errors is correctly specified.\n"
     ]
    }
   ],
   "source": [
    "print(pred_join_amt_1d(data).summary()) #we've wrapped this in a print statement to preserve the original statsmodels layout. You may get a deprecation warning here -- that is ok."
   ]
  },
  {
   "cell_type": "code",
   "execution_count": 36,
   "metadata": {
    "deletable": false,
    "editable": false,
    "nbgrader": {
     "checksum": "e30e6203be2c8e024d9f7f8667eaba90",
     "grade": true,
     "grade_id": "correct_amt_1d_ols",
     "locked": true,
     "points": 3,
     "schema_version": 1,
     "solution": false
    },
    "pycharm": {
     "is_executing": false
    }
   },
   "outputs": [
    {
     "data": {
      "text/plain": [
       "'checking your t-value is correct'"
      ]
     },
     "execution_count": 36,
     "metadata": {},
     "output_type": "execute_result"
    }
   ],
   "source": [
    "\"\"\"checking your t-value is correct\"\"\"\n",
    "# Hidden tests"
   ]
  },
  {
   "cell_type": "markdown",
   "metadata": {
    "deletable": false,
    "editable": false,
    "nbgrader": {
     "checksum": "326432355e5ebe8d5dac2ab0b9de1665",
     "grade": false,
     "grade_id": "cell-294f2bf2e46f9452",
     "locked": true,
     "schema_version": 1,
     "solution": false
    }
   },
   "source": [
    "b. ```amt_diff_7d```, storing the fitted model in ```model_7d``` (3 points)"
   ]
  },
  {
   "cell_type": "code",
   "execution_count": 37,
   "metadata": {
    "deletable": false,
    "nbgrader": {
     "checksum": "2a46536b4be73667e35835d8e3e0c87b",
     "grade": false,
     "grade_id": "amt_7d_ols",
     "locked": false,
     "schema_version": 1,
     "solution": true
    },
    "pycharm": {
     "is_executing": false
    }
   },
   "outputs": [],
   "source": [
    "def pred_join_amt_7d(provided_data):\n",
    "    # YOUR CODE HERE\n",
    "    \n",
    "    \n",
    "    data = email_join_ols(provided_data)\n",
    "    Y = data['amt_diff_7d']\n",
    "    X = data['predicted_join']\n",
    "    X = sm.add_constant(X)\n",
    "    model = sm.OLS(Y,X)\n",
    "    model_7d = model.fit()\n",
    "    \n",
    "    return model_7d"
   ]
  },
  {
   "cell_type": "markdown",
   "metadata": {
    "deletable": false,
    "editable": false,
    "nbgrader": {
     "checksum": "d7405ddfc098d5fdc910d4b276db04a2",
     "grade": false,
     "grade_id": "cell-c214e89f9dc93abb",
     "locked": true,
     "schema_version": 1,
     "solution": false
    }
   },
   "source": [
    "Your function should return a summary view of your results. Check that it does:"
   ]
  },
  {
   "cell_type": "code",
   "execution_count": 38,
   "metadata": {
    "pycharm": {
     "is_executing": false
    }
   },
   "outputs": [
    {
     "name": "stdout",
     "output_type": "stream",
     "text": [
      "                            OLS Regression Results                            \n",
      "==============================================================================\n",
      "Dep. Variable:            amt_diff_7d   R-squared:                       0.000\n",
      "Model:                            OLS   Adj. R-squared:                  0.000\n",
      "Method:                 Least Squares   F-statistic:                     9.979\n",
      "Date:                Sun, 21 Nov 2021   Prob (F-statistic):            0.00158\n",
      "Time:                        20:57:29   Log-Likelihood:            -3.5400e+05\n",
      "No. Observations:               64800   AIC:                         7.080e+05\n",
      "Df Residuals:                   64798   BIC:                         7.080e+05\n",
      "Df Model:                           1                                         \n",
      "Covariance Type:            nonrobust                                         \n",
      "==================================================================================\n",
      "                     coef    std err          t      P>|t|      [0.025      0.975]\n",
      "----------------------------------------------------------------------------------\n",
      "const             -6.5511      1.148     -5.705      0.000      -8.802      -4.300\n",
      "predicted_join   391.4018    123.900      3.159      0.002     148.557     634.246\n",
      "==============================================================================\n",
      "Omnibus:                   151113.442   Durbin-Watson:                   1.997\n",
      "Prob(Omnibus):                  0.000   Jarque-Bera (JB):      12568626838.778\n",
      "Skew:                          22.150   Prob(JB):                         0.00\n",
      "Kurtosis:                    2160.101   Cond. No.                         553.\n",
      "==============================================================================\n",
      "\n",
      "Notes:\n",
      "[1] Standard Errors assume that the covariance matrix of the errors is correctly specified.\n"
     ]
    }
   ],
   "source": [
    "print(pred_join_amt_7d(data).summary())"
   ]
  },
  {
   "cell_type": "code",
   "execution_count": 39,
   "metadata": {
    "deletable": false,
    "editable": false,
    "nbgrader": {
     "checksum": "5c7d7ad45b9d16972779bebc20626455",
     "grade": true,
     "grade_id": "correct_amt_7d_ols",
     "locked": true,
     "points": 3,
     "schema_version": 1,
     "solution": false
    },
    "pycharm": {
     "is_executing": false
    }
   },
   "outputs": [
    {
     "data": {
      "text/plain": [
       "'checking your t-value is correct'"
      ]
     },
     "execution_count": 39,
     "metadata": {},
     "output_type": "execute_result"
    }
   ],
   "source": [
    "\"\"\"checking your t-value is correct\"\"\"\n",
    "# Hidden tests"
   ]
  },
  {
   "cell_type": "markdown",
   "metadata": {
    "deletable": false,
    "editable": false,
    "nbgrader": {
     "checksum": "c7ef51ae5900b326e845e5a5e39fa828",
     "grade": false,
     "grade_id": "cell-945dc3ef67e3ff4a",
     "locked": true,
     "schema_version": 1,
     "solution": false
    }
   },
   "source": [
    "c. ```amt_diff_30d```, storing the fitted model in ```model_30d``` (2 points)"
   ]
  },
  {
   "cell_type": "code",
   "execution_count": 40,
   "metadata": {
    "deletable": false,
    "nbgrader": {
     "checksum": "92cb34cb76c8ff4e94d201f4583e9898",
     "grade": false,
     "grade_id": "amt_30d_ols",
     "locked": false,
     "schema_version": 1,
     "solution": true
    },
    "pycharm": {
     "is_executing": false
    }
   },
   "outputs": [],
   "source": [
    "def pred_join_amt_30d(provided_data):\n",
    "    # YOUR CODE HERE\n",
    "\n",
    "        \n",
    "    data = email_join_ols(provided_data)\n",
    "    Y = data['amt_diff_30d']\n",
    "    X = data['predicted_join']\n",
    "    X = sm.add_constant(X)\n",
    "    model = sm.OLS(Y,X)\n",
    "    model_30d = model.fit()\n",
    "    \n",
    "    \n",
    "    \n",
    "    return model_30d"
   ]
  },
  {
   "cell_type": "markdown",
   "metadata": {
    "deletable": false,
    "editable": false,
    "nbgrader": {
     "checksum": "a7b9672594a63732fba98270f3e08112",
     "grade": false,
     "grade_id": "cell-7fb40e4faf61cf95",
     "locked": true,
     "schema_version": 1,
     "solution": false
    }
   },
   "source": [
    "Your function should return a summary view of your results. Check that it does:"
   ]
  },
  {
   "cell_type": "code",
   "execution_count": 41,
   "metadata": {
    "pycharm": {
     "is_executing": false
    }
   },
   "outputs": [
    {
     "name": "stdout",
     "output_type": "stream",
     "text": [
      "                            OLS Regression Results                            \n",
      "==============================================================================\n",
      "Dep. Variable:           amt_diff_30d   R-squared:                       0.000\n",
      "Model:                            OLS   Adj. R-squared:                  0.000\n",
      "Method:                 Least Squares   F-statistic:                     2.112\n",
      "Date:                Sun, 21 Nov 2021   Prob (F-statistic):              0.146\n",
      "Time:                        21:05:12   Log-Likelihood:            -3.8856e+05\n",
      "No. Observations:               64800   AIC:                         7.771e+05\n",
      "Df Residuals:                   64798   BIC:                         7.771e+05\n",
      "Df Model:                           1                                         \n",
      "Covariance Type:            nonrobust                                         \n",
      "==================================================================================\n",
      "                     coef    std err          t      P>|t|      [0.025      0.975]\n",
      "----------------------------------------------------------------------------------\n",
      "const             -7.0699      1.957     -3.612      0.000     -10.906      -3.234\n",
      "predicted_join   306.9289    211.197      1.453      0.146    -107.017     720.875\n",
      "==============================================================================\n",
      "Omnibus:                    89231.411   Durbin-Watson:                   1.995\n",
      "Prob(Omnibus):                  0.000   Jarque-Bera (JB):        653882949.111\n",
      "Skew:                           6.809   Prob(JB):                         0.00\n",
      "Kurtosis:                     494.928   Cond. No.                         553.\n",
      "==============================================================================\n",
      "\n",
      "Notes:\n",
      "[1] Standard Errors assume that the covariance matrix of the errors is correctly specified.\n"
     ]
    }
   ],
   "source": [
    "print(pred_join_amt_30d(data).summary())"
   ]
  },
  {
   "cell_type": "code",
   "execution_count": 42,
   "metadata": {
    "deletable": false,
    "editable": false,
    "nbgrader": {
     "checksum": "bde929ab651b6cdee976610dfd15bd35",
     "grade": true,
     "grade_id": "correct_amt_30d_ols",
     "locked": true,
     "points": 2,
     "schema_version": 1,
     "solution": false
    },
    "pycharm": {
     "is_executing": false
    }
   },
   "outputs": [
    {
     "data": {
      "text/plain": [
       "'checking your t-value is correct'"
      ]
     },
     "execution_count": 42,
     "metadata": {},
     "output_type": "execute_result"
    }
   ],
   "source": [
    "\"\"\"checking your t-value is correct\"\"\"\n",
    "# Hidden tests"
   ]
  },
  {
   "cell_type": "markdown",
   "metadata": {
    "deletable": false,
    "editable": false,
    "nbgrader": {
     "checksum": "9cd1f7ee8dadfb1dd134ccc86a393e05",
     "grade": false,
     "grade_id": "cell-446eea63db6faded",
     "locked": true,
     "schema_version": 1,
     "solution": false
    }
   },
   "source": [
    "## Part B (10 points)"
   ]
  },
  {
   "cell_type": "markdown",
   "metadata": {
    "deletable": false,
    "editable": false,
    "nbgrader": {
     "checksum": "d72b2dd35f6c8c0b8d1eac323b4bf3a6",
     "grade": false,
     "grade_id": "cell-120e8c55af9c1013",
     "locked": true,
     "schema_version": 1,
     "solution": false
    }
   },
   "source": [
    "Now we have estimated the effect of joining a team on lending using instrumental variables! However, there is a more direct way to complete these two stages.\n",
    "\n",
    "Using the IV2SLS (Instrumental Variables 2-Stage Least Squares) function ([Documentation](https://bashtage.github.io/linearmodels/iv/iv/linearmodels.iv.model.IV2SLS.html)) in the linearmodels library will achieve everything we did above faster -- and it will more correctly estimate the standard errors."
   ]
  },
  {
   "cell_type": "markdown",
   "metadata": {
    "deletable": false,
    "editable": false,
    "nbgrader": {
     "checksum": "8e412a5e867953af90ef0e699263c7d9",
     "grade": false,
     "grade_id": "cell-29b6c8367f05077a",
     "locked": true,
     "schema_version": 1,
     "solution": false
    }
   },
   "source": [
    "1. First, let's make things simpler for ourselves. For this analysis, we will only need a dataframe with the following columns: ```email```, ```join_any```, ```amt_diff_1d```, ```amt_diff_7d```, ```amt_diff_30d```, and the ```const``` column you created above. (As in our other models, we need a constant included in the models we will be creating with IV2SLS.) (1 point)"
   ]
  },
  {
   "cell_type": "code",
   "execution_count": 43,
   "metadata": {
    "deletable": false,
    "nbgrader": {
     "checksum": "4fc9d446e964f1168c2ee737e9c3a382",
     "grade": false,
     "grade_id": "iv_dataframe",
     "locked": false,
     "schema_version": 1,
     "solution": true
    },
    "pycharm": {
     "is_executing": false
    }
   },
   "outputs": [],
   "source": [
    "iv_dataframe = pd.DataFrame()\n",
    "iv_dataframe['email'] = data['email']\n",
    "iv_dataframe['join_any'] = data['join_any']\n",
    "iv_dataframe['amt_diff_1d'] = data['amt_diff_1d']\n",
    "iv_dataframe['amt_diff_7d'] = data['amt_diff_7d']\n",
    "iv_dataframe['amt_diff_30d'] = data['amt_diff_30d']\n",
    "iv_dataframe['const'] = data['const']\n"
   ]
  },
  {
   "cell_type": "markdown",
   "metadata": {
    "deletable": false,
    "editable": false,
    "nbgrader": {
     "checksum": "e1974176a33cbcd4c2a9364b39ecce09",
     "grade": false,
     "grade_id": "cell-feda088c19e85a60",
     "locked": true,
     "schema_version": 1,
     "solution": false
    }
   },
   "source": [
    "```iv_dataframe``` should yield a dataframe with the correct calculated, given, and new column and row values. Check that it does:"
   ]
  },
  {
   "cell_type": "code",
   "execution_count": 44,
   "metadata": {
    "pycharm": {
     "is_executing": false
    }
   },
   "outputs": [
    {
     "data": {
      "text/html": [
       "<div>\n",
       "<style scoped>\n",
       "    .dataframe tbody tr th:only-of-type {\n",
       "        vertical-align: middle;\n",
       "    }\n",
       "\n",
       "    .dataframe tbody tr th {\n",
       "        vertical-align: top;\n",
       "    }\n",
       "\n",
       "    .dataframe thead th {\n",
       "        text-align: right;\n",
       "    }\n",
       "</style>\n",
       "<table border=\"1\" class=\"dataframe\">\n",
       "  <thead>\n",
       "    <tr style=\"text-align: right;\">\n",
       "      <th></th>\n",
       "      <th>email</th>\n",
       "      <th>join_any</th>\n",
       "      <th>amt_diff_1d</th>\n",
       "      <th>amt_diff_7d</th>\n",
       "      <th>amt_diff_30d</th>\n",
       "      <th>const</th>\n",
       "    </tr>\n",
       "  </thead>\n",
       "  <tbody>\n",
       "    <tr>\n",
       "      <th>0</th>\n",
       "      <td>1</td>\n",
       "      <td>0</td>\n",
       "      <td>0.0</td>\n",
       "      <td>0.0</td>\n",
       "      <td>-50.0</td>\n",
       "      <td>1</td>\n",
       "    </tr>\n",
       "    <tr>\n",
       "      <th>1</th>\n",
       "      <td>1</td>\n",
       "      <td>0</td>\n",
       "      <td>0.0</td>\n",
       "      <td>0.0</td>\n",
       "      <td>0.0</td>\n",
       "      <td>1</td>\n",
       "    </tr>\n",
       "    <tr>\n",
       "      <th>2</th>\n",
       "      <td>1</td>\n",
       "      <td>0</td>\n",
       "      <td>0.0</td>\n",
       "      <td>0.0</td>\n",
       "      <td>0.0</td>\n",
       "      <td>1</td>\n",
       "    </tr>\n",
       "    <tr>\n",
       "      <th>3</th>\n",
       "      <td>1</td>\n",
       "      <td>0</td>\n",
       "      <td>0.0</td>\n",
       "      <td>0.0</td>\n",
       "      <td>0.0</td>\n",
       "      <td>1</td>\n",
       "    </tr>\n",
       "    <tr>\n",
       "      <th>4</th>\n",
       "      <td>1</td>\n",
       "      <td>0</td>\n",
       "      <td>0.0</td>\n",
       "      <td>0.0</td>\n",
       "      <td>0.0</td>\n",
       "      <td>1</td>\n",
       "    </tr>\n",
       "  </tbody>\n",
       "</table>\n",
       "</div>"
      ],
      "text/plain": [
       "   email  join_any  amt_diff_1d  amt_diff_7d  amt_diff_30d  const\n",
       "0      1         0          0.0          0.0         -50.0      1\n",
       "1      1         0          0.0          0.0           0.0      1\n",
       "2      1         0          0.0          0.0           0.0      1\n",
       "3      1         0          0.0          0.0           0.0      1\n",
       "4      1         0          0.0          0.0           0.0      1"
      ]
     },
     "execution_count": 44,
     "metadata": {},
     "output_type": "execute_result"
    }
   ],
   "source": [
    "iv_dataframe.head()"
   ]
  },
  {
   "cell_type": "code",
   "execution_count": 45,
   "metadata": {
    "deletable": false,
    "editable": false,
    "nbgrader": {
     "checksum": "fe54ccde3536c6185587f46a19cf4ef3",
     "grade": true,
     "grade_id": "correct_iv_dataframe",
     "locked": true,
     "points": 1,
     "schema_version": 1,
     "solution": false
    },
    "pycharm": {
     "is_executing": false
    }
   },
   "outputs": [],
   "source": [
    "\"\"\"checking your dataframe columns are all present\"\"\"\n",
    "assert 'email' and 'join_any'and 'amt_diff_1d' and 'amt_diff_7d' and 'amt_diff_30d'and 'const' in iv_dataframe"
   ]
  },
  {
   "cell_type": "markdown",
   "metadata": {
    "deletable": false,
    "editable": false,
    "nbgrader": {
     "checksum": "9bdea64cb1e4a96eb933b7471890d9ec",
     "grade": false,
     "grade_id": "cell-2db5938c39c25a44",
     "locked": true,
     "schema_version": 1,
     "solution": false
    }
   },
   "source": [
    "After looking over the documentation of the IV2SLS function, create and fit three models (with the three lending measurement periods used in number 3) that estimate the effect of joining a team on lending amounts considering the instrument of emailing subjects about joining a team.\n",
    "\n",
    "According to the [linearmodels IV2SLS documentation](https://bashtage.github.io/linearmodels/iv/iv/linearmodels.iv.model.IV2SLS.html), you will need to provide a given set of parameters to the function in order to create the model. The dependent variables and instruments are straightforward, but what are exogenous and endogenous regressors?\n",
    "\n",
    "An exogenous regressor does not co-vary with the model’s random error while an endogenous regressor does. In our model’s case, we know the ```join_any``` variable co-varies with the random error while ```const``` cannot (since it is a constant!)."
   ]
  },
  {
   "cell_type": "markdown",
   "metadata": {
    "deletable": false,
    "editable": false,
    "nbgrader": {
     "checksum": "d913c9b2006bf044b60fc83bbb28a7f6",
     "grade": false,
     "grade_id": "cell-86a0196cf3112fa6",
     "locked": true,
     "schema_version": 1,
     "solution": false
    }
   },
   "source": [
    "2. Create and fit the model for the first lending measurement period, the period referred to in ```amt_diff_1d``` (3 points)"
   ]
  },
  {
   "cell_type": "code",
   "execution_count": 46,
   "metadata": {
    "deletable": false,
    "nbgrader": {
     "checksum": "971830c9d7870254193ebf8ad1536230",
     "grade": false,
     "grade_id": "amt_1d_iv",
     "locked": false,
     "schema_version": 1,
     "solution": true
    },
    "pycharm": {
     "is_executing": false
    }
   },
   "outputs": [],
   "source": [
    "def iv_model_1d(provided_data):\n",
    "    \n",
    "    \"\"\" Take some time to think about what exactly you're modeling here, then read the linearmodels documentation.\n",
    "    What is the instrument? What is the dependent variable, what are the endogenous and exogenous regressors?\n",
    "    Tip: the covariance should be unadjusted in this model, (and your following models)\n",
    "    \"\"\"\n",
    "     # YOUR CODE HERE\n",
    "    iv_result_1d = IV2SLS(provided_data['amt_diff_1d'], provided_data[['const']], provided_data[['join_any']], provided_data['email'], weights=None).fit(cov_type='unadjusted')\n",
    "   \n",
    "   \n",
    "\n",
    "    return iv_result_1d"
   ]
  },
  {
   "cell_type": "markdown",
   "metadata": {
    "deletable": false,
    "editable": false,
    "nbgrader": {
     "checksum": "a833737c2990e7e77408d50ff37f2f82",
     "grade": false,
     "grade_id": "cell-452b087c4853127c",
     "locked": true,
     "schema_version": 1,
     "solution": false
    }
   },
   "source": [
    "Your function should return a summary view of your results. Check that it does:"
   ]
  },
  {
   "cell_type": "code",
   "execution_count": 47,
   "metadata": {
    "pycharm": {
     "is_executing": false
    }
   },
   "outputs": [
    {
     "data": {
      "text/html": [
       "<table class=\"simpletable\">\n",
       "<caption>IV-2SLS Estimation Summary</caption>\n",
       "<tr>\n",
       "  <th>Dep. Variable:</th>       <td>amt_diff_1d</td>   <th>  R-squared:         </th> <td>-2.3237</td>\n",
       "</tr>\n",
       "<tr>\n",
       "  <th>Estimator:</th>             <td>IV-2SLS</td>     <th>  Adj. R-squared:    </th> <td>-2.3237</td>\n",
       "</tr>\n",
       "<tr>\n",
       "  <th>No. Observations:</th>       <td>64800</td>      <th>  F-statistic:       </th> <td>17.060</td> \n",
       "</tr>\n",
       "<tr>\n",
       "  <th>Date:</th>             <td>Sun, Nov 21 2021</td> <th>  P-value (F-stat)   </th> <td>0.0000</td> \n",
       "</tr>\n",
       "<tr>\n",
       "  <th>Time:</th>                 <td>23:52:58</td>     <th>  Distribution:      </th> <td>chi2(1)</td>\n",
       "</tr>\n",
       "<tr>\n",
       "  <th>Cov. Estimator:</th>      <td>unadjusted</td>    <th>                     </th>    <td></td>    \n",
       "</tr>\n",
       "<tr>\n",
       "  <th></th>                          <td></td>         <th>                     </th>    <td></td>    \n",
       "</tr>\n",
       "</table>\n",
       "<table class=\"simpletable\">\n",
       "<caption>Parameter Estimates</caption>\n",
       "<tr>\n",
       "      <td></td>     <th>Parameter</th> <th>Std. Err.</th> <th>T-stat</th>  <th>P-value</th> <th>Lower CI</th> <th>Upper CI</th>\n",
       "</tr>\n",
       "<tr>\n",
       "  <th>const</th>     <td>-2.6593</td>   <td>0.6699</td>   <td>-3.9698</td> <td>0.0001</td>   <td>-3.9723</td>  <td>-1.3464</td>\n",
       "</tr>\n",
       "<tr>\n",
       "  <th>join_any</th>  <td>298.56</td>    <td>72.283</td>   <td>4.1304</td>  <td>0.0000</td>   <td>156.89</td>   <td>440.23</td> \n",
       "</tr>\n",
       "</table><br/><br/>Endogenous: join_any<br/>Instruments: email<br/>Unadjusted Covariance (Homoskedastic)<br/>Debiased: False<br/>id: 0x7f1418df5490"
      ],
      "text/plain": [
       "                          IV-2SLS Estimation Summary                          \n",
       "==============================================================================\n",
       "Dep. Variable:            amt_diff_1d   R-squared:                     -2.3237\n",
       "Estimator:                    IV-2SLS   Adj. R-squared:                -2.3237\n",
       "No. Observations:               64800   F-statistic:                    17.060\n",
       "Date:                Sun, Nov 21 2021   P-value (F-stat)                0.0000\n",
       "Time:                        23:52:58   Distribution:                  chi2(1)\n",
       "Cov. Estimator:            unadjusted                                         \n",
       "                                                                              \n",
       "                             Parameter Estimates                              \n",
       "==============================================================================\n",
       "            Parameter  Std. Err.     T-stat    P-value    Lower CI    Upper CI\n",
       "------------------------------------------------------------------------------\n",
       "const         -2.6593     0.6699    -3.9698     0.0001     -3.9723     -1.3464\n",
       "join_any       298.56     72.283     4.1304     0.0000      156.89      440.23\n",
       "==============================================================================\n",
       "\n",
       "Endogenous: join_any\n",
       "Instruments: email\n",
       "Unadjusted Covariance (Homoskedastic)\n",
       "Debiased: False\n",
       "IVResults, id: 0x7f1418df5490"
      ]
     },
     "execution_count": 47,
     "metadata": {},
     "output_type": "execute_result"
    }
   ],
   "source": [
    "iv_model_1d(iv_dataframe)"
   ]
  },
  {
   "cell_type": "code",
   "execution_count": 48,
   "metadata": {
    "deletable": false,
    "editable": false,
    "nbgrader": {
     "checksum": "dbe3439a9fb61de2acd3c1eb372f325e",
     "grade": true,
     "grade_id": "correct_amt_1d_iv",
     "locked": true,
     "points": 3,
     "schema_version": 1,
     "solution": false
    },
    "pycharm": {
     "is_executing": false
    }
   },
   "outputs": [
    {
     "data": {
      "text/plain": [
       "'checking your 1d model has an unadjusted covariance and your p-value is correct'"
      ]
     },
     "execution_count": 48,
     "metadata": {},
     "output_type": "execute_result"
    }
   ],
   "source": [
    "\"\"\"checking your 1d model has an unadjusted covariance and your p-value is correct\"\"\"\n",
    "# Hidden tests"
   ]
  },
  {
   "cell_type": "markdown",
   "metadata": {},
   "source": [
    "3. Create and fit the model for the first lending measurement period, the period referred to in ```amt_diff_7d``` (3 points)"
   ]
  },
  {
   "cell_type": "code",
   "execution_count": 49,
   "metadata": {
    "deletable": false,
    "nbgrader": {
     "checksum": "4e376547b92dd9bed2610f2123216a26",
     "grade": false,
     "grade_id": "amt_7d_iv",
     "locked": false,
     "schema_version": 1,
     "solution": true
    },
    "pycharm": {
     "is_executing": false
    }
   },
   "outputs": [],
   "source": [
    "def iv_model_7d(provided_data):\n",
    "    # YOUR CODE HERE\n",
    "\n",
    "    iv_result_7d = IV2SLS(provided_data['amt_diff_7d'], provided_data[['const']], provided_data[['join_any']], provided_data['email'], weights=None).fit(cov_type='unadjusted')\n",
    "    \n",
    "    \n",
    "    \n",
    "    return iv_result_7d"
   ]
  },
  {
   "cell_type": "markdown",
   "metadata": {
    "deletable": false,
    "editable": false,
    "nbgrader": {
     "checksum": "58acffd375c68fcdd2e36888e9a343e2",
     "grade": false,
     "grade_id": "cell-c5abaebb334e8b8b",
     "locked": true,
     "schema_version": 1,
     "solution": false
    }
   },
   "source": [
    "Your function should return a summary view of your results. Check that it does:"
   ]
  },
  {
   "cell_type": "code",
   "execution_count": 50,
   "metadata": {
    "pycharm": {
     "is_executing": false
    }
   },
   "outputs": [
    {
     "data": {
      "text/html": [
       "<table class=\"simpletable\">\n",
       "<caption>IV-2SLS Estimation Summary</caption>\n",
       "<tr>\n",
       "  <th>Dep. Variable:</th>       <td>amt_diff_7d</td>   <th>  R-squared:         </th> <td>-0.4152</td>\n",
       "</tr>\n",
       "<tr>\n",
       "  <th>Estimator:</th>             <td>IV-2SLS</td>     <th>  Adj. R-squared:    </th> <td>-0.4153</td>\n",
       "</tr>\n",
       "<tr>\n",
       "  <th>No. Observations:</th>       <td>64800</td>      <th>  F-statistic:       </th> <td>7.0505</td> \n",
       "</tr>\n",
       "<tr>\n",
       "  <th>Date:</th>             <td>Sun, Nov 21 2021</td> <th>  P-value (F-stat)   </th> <td>0.0079</td> \n",
       "</tr>\n",
       "<tr>\n",
       "  <th>Time:</th>                 <td>23:56:12</td>     <th>  Distribution:      </th> <td>chi2(1)</td>\n",
       "</tr>\n",
       "<tr>\n",
       "  <th>Cov. Estimator:</th>      <td>unadjusted</td>    <th>                     </th>    <td></td>    \n",
       "</tr>\n",
       "<tr>\n",
       "  <th></th>                          <td></td>         <th>                     </th>    <td></td>    \n",
       "</tr>\n",
       "</table>\n",
       "<table class=\"simpletable\">\n",
       "<caption>Parameter Estimates</caption>\n",
       "<tr>\n",
       "      <td></td>     <th>Parameter</th> <th>Std. Err.</th> <th>T-stat</th>  <th>P-value</th> <th>Lower CI</th> <th>Upper CI</th>\n",
       "</tr>\n",
       "<tr>\n",
       "  <th>const</th>     <td>-6.5511</td>   <td>1.3661</td>   <td>-4.7954</td> <td>0.0000</td>   <td>-9.2286</td>  <td>-3.8735</td>\n",
       "</tr>\n",
       "<tr>\n",
       "  <th>join_any</th>  <td>391.40</td>    <td>147.41</td>   <td>2.6553</td>  <td>0.0079</td>   <td>102.49</td>   <td>680.31</td> \n",
       "</tr>\n",
       "</table><br/><br/>Endogenous: join_any<br/>Instruments: email<br/>Unadjusted Covariance (Homoskedastic)<br/>Debiased: False<br/>id: 0x7f1419479b10"
      ],
      "text/plain": [
       "                          IV-2SLS Estimation Summary                          \n",
       "==============================================================================\n",
       "Dep. Variable:            amt_diff_7d   R-squared:                     -0.4152\n",
       "Estimator:                    IV-2SLS   Adj. R-squared:                -0.4153\n",
       "No. Observations:               64800   F-statistic:                    7.0505\n",
       "Date:                Sun, Nov 21 2021   P-value (F-stat)                0.0079\n",
       "Time:                        23:56:12   Distribution:                  chi2(1)\n",
       "Cov. Estimator:            unadjusted                                         \n",
       "                                                                              \n",
       "                             Parameter Estimates                              \n",
       "==============================================================================\n",
       "            Parameter  Std. Err.     T-stat    P-value    Lower CI    Upper CI\n",
       "------------------------------------------------------------------------------\n",
       "const         -6.5511     1.3661    -4.7954     0.0000     -9.2286     -3.8735\n",
       "join_any       391.40     147.41     2.6553     0.0079      102.49      680.31\n",
       "==============================================================================\n",
       "\n",
       "Endogenous: join_any\n",
       "Instruments: email\n",
       "Unadjusted Covariance (Homoskedastic)\n",
       "Debiased: False\n",
       "IVResults, id: 0x7f1419479b10"
      ]
     },
     "execution_count": 50,
     "metadata": {},
     "output_type": "execute_result"
    }
   ],
   "source": [
    "iv_model_7d(iv_dataframe)"
   ]
  },
  {
   "cell_type": "code",
   "execution_count": 51,
   "metadata": {
    "deletable": false,
    "editable": false,
    "nbgrader": {
     "checksum": "19aa60863c5f0b8f6741e1ee3b174125",
     "grade": true,
     "grade_id": "correct_amt_7d_iv",
     "locked": true,
     "points": 3,
     "schema_version": 1,
     "solution": false
    },
    "pycharm": {
     "is_executing": false
    }
   },
   "outputs": [
    {
     "data": {
      "text/plain": [
       "'checking your 7d model has an unadjusted covariance and your p-value is correct'"
      ]
     },
     "execution_count": 51,
     "metadata": {},
     "output_type": "execute_result"
    }
   ],
   "source": [
    "\"\"\"checking your 7d model has an unadjusted covariance and your p-value is correct\"\"\"\n",
    "# Hidden tests"
   ]
  },
  {
   "cell_type": "markdown",
   "metadata": {
    "deletable": false,
    "editable": false,
    "nbgrader": {
     "checksum": "696333e255e3411c153278d605f72c37",
     "grade": false,
     "grade_id": "cell-515f811a63eeee8f",
     "locked": true,
     "schema_version": 1,
     "solution": false
    }
   },
   "source": [
    "4. Create and fit the model for the first lending measurement period, the period referred to in ```amt_diff_30d``` (3 points)"
   ]
  },
  {
   "cell_type": "code",
   "execution_count": 52,
   "metadata": {
    "deletable": false,
    "nbgrader": {
     "checksum": "c51b0c9d3d099d8bcf892c305fc2d011",
     "grade": false,
     "grade_id": "amt_30d_iv",
     "locked": false,
     "schema_version": 1,
     "solution": true
    },
    "pycharm": {
     "is_executing": false
    }
   },
   "outputs": [],
   "source": [
    "def iv_model_30d(provided_data):\n",
    "    # YOUR CODE HERE\n",
    "\n",
    "    iv_result_30d = IV2SLS(provided_data['amt_diff_30d'], provided_data[['const']], provided_data[['join_any']], provided_data['email'], weights=None).fit(cov_type='unadjusted')\n",
    "        \n",
    "    return iv_result_30d"
   ]
  },
  {
   "cell_type": "markdown",
   "metadata": {
    "deletable": false,
    "editable": false,
    "nbgrader": {
     "checksum": "8884bf2ea90255b9b724476509c51f33",
     "grade": false,
     "grade_id": "cell-fc309ad2f4d7a16f",
     "locked": true,
     "schema_version": 1,
     "solution": false
    }
   },
   "source": [
    "Your function should return a summary view of your results. Check that it does:"
   ]
  },
  {
   "cell_type": "code",
   "execution_count": 53,
   "metadata": {
    "pycharm": {
     "is_executing": false
    }
   },
   "outputs": [
    {
     "data": {
      "text/html": [
       "<table class=\"simpletable\">\n",
       "<caption>IV-2SLS Estimation Summary</caption>\n",
       "<tr>\n",
       "  <th>Dep. Variable:</th>      <td>amt_diff_30d</td>   <th>  R-squared:         </th> <td>-0.0806</td>\n",
       "</tr>\n",
       "<tr>\n",
       "  <th>Estimator:</th>             <td>IV-2SLS</td>     <th>  Adj. R-squared:    </th> <td>-0.0807</td>\n",
       "</tr>\n",
       "<tr>\n",
       "  <th>No. Observations:</th>       <td>64800</td>      <th>  F-statistic:       </th> <td>1.9544</td> \n",
       "</tr>\n",
       "<tr>\n",
       "  <th>Date:</th>             <td>Mon, Nov 22 2021</td> <th>  P-value (F-stat)   </th> <td>0.1621</td> \n",
       "</tr>\n",
       "<tr>\n",
       "  <th>Time:</th>                 <td>00:04:21</td>     <th>  Distribution:      </th> <td>chi2(1)</td>\n",
       "</tr>\n",
       "<tr>\n",
       "  <th>Cov. Estimator:</th>      <td>unadjusted</td>    <th>                     </th>    <td></td>    \n",
       "</tr>\n",
       "<tr>\n",
       "  <th></th>                          <td></td>         <th>                     </th>    <td></td>    \n",
       "</tr>\n",
       "</table>\n",
       "<table class=\"simpletable\">\n",
       "<caption>Parameter Estimates</caption>\n",
       "<tr>\n",
       "      <td></td>     <th>Parameter</th> <th>Std. Err.</th> <th>T-stat</th>  <th>P-value</th> <th>Lower CI</th> <th>Upper CI</th>\n",
       "</tr>\n",
       "<tr>\n",
       "  <th>const</th>     <td>-7.0699</td>   <td>2.0347</td>   <td>-3.4746</td> <td>0.0005</td>   <td>-11.058</td>  <td>-3.0819</td>\n",
       "</tr>\n",
       "<tr>\n",
       "  <th>join_any</th>  <td>306.93</td>    <td>219.55</td>   <td>1.3980</td>  <td>0.1621</td>   <td>-123.38</td>  <td>737.24</td> \n",
       "</tr>\n",
       "</table><br/><br/>Endogenous: join_any<br/>Instruments: email<br/>Unadjusted Covariance (Homoskedastic)<br/>Debiased: False<br/>id: 0x7f14179a2b10"
      ],
      "text/plain": [
       "                          IV-2SLS Estimation Summary                          \n",
       "==============================================================================\n",
       "Dep. Variable:           amt_diff_30d   R-squared:                     -0.0806\n",
       "Estimator:                    IV-2SLS   Adj. R-squared:                -0.0807\n",
       "No. Observations:               64800   F-statistic:                    1.9544\n",
       "Date:                Mon, Nov 22 2021   P-value (F-stat)                0.1621\n",
       "Time:                        00:04:21   Distribution:                  chi2(1)\n",
       "Cov. Estimator:            unadjusted                                         \n",
       "                                                                              \n",
       "                             Parameter Estimates                              \n",
       "==============================================================================\n",
       "            Parameter  Std. Err.     T-stat    P-value    Lower CI    Upper CI\n",
       "------------------------------------------------------------------------------\n",
       "const         -7.0699     2.0347    -3.4746     0.0005     -11.058     -3.0819\n",
       "join_any       306.93     219.55     1.3980     0.1621     -123.38      737.24\n",
       "==============================================================================\n",
       "\n",
       "Endogenous: join_any\n",
       "Instruments: email\n",
       "Unadjusted Covariance (Homoskedastic)\n",
       "Debiased: False\n",
       "IVResults, id: 0x7f14179a2b10"
      ]
     },
     "execution_count": 53,
     "metadata": {},
     "output_type": "execute_result"
    }
   ],
   "source": [
    "iv_model_30d(iv_dataframe)"
   ]
  },
  {
   "cell_type": "code",
   "execution_count": null,
   "metadata": {
    "deletable": false,
    "editable": false,
    "nbgrader": {
     "checksum": "45897f0bd941b49bd35c834def95510b",
     "grade": true,
     "grade_id": "correct_amt_30d_iv",
     "locked": true,
     "points": 3,
     "schema_version": 1,
     "solution": false
    },
    "pycharm": {
     "is_executing": false
    }
   },
   "outputs": [],
   "source": [
    "\"\"\"checking your 30d model has an unadjusted covariance and your p-value is correct\"\"\"\n",
    "# Hidden tests"
   ]
  }
 ],
 "metadata": {
  "coursera": {
   "schema_names": [
    "mads_experiment_design_and_analysis_v4_assignment4"
   ]
  },
  "kernelspec": {
   "display_name": "Python 3 (ipykernel)",
   "language": "python",
   "name": "python3"
  },
  "language_info": {
   "codemirror_mode": {
    "name": "ipython",
    "version": 3
   },
   "file_extension": ".py",
   "mimetype": "text/x-python",
   "name": "python",
   "nbconvert_exporter": "python",
   "pygments_lexer": "ipython3",
   "version": "3.7.10"
  },
  "pycharm": {
   "stem_cell": {
    "cell_type": "raw",
    "metadata": {
     "collapsed": false
    },
    "source": []
   }
  }
 },
 "nbformat": 4,
 "nbformat_minor": 2
}
